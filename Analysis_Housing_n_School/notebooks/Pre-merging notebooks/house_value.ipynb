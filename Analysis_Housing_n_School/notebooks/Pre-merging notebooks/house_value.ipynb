{
 "cells": [
  {
   "cell_type": "markdown",
   "metadata": {},
   "source": [
    "## 1. Triming Raw Data - Extract Los Angeles metropolitant data only\n",
    "\n",
    "Note: Raw data is not uploaded to GitHub. Do not run this section without downloading the raw_data folder!"
   ]
  },
  {
   "cell_type": "code",
   "execution_count": 1,
   "metadata": {},
   "outputs": [
    {
     "name": "stdout",
     "output_type": "stream",
     "text": [
      "   RegionID  SizeRank  RegionName RegionType StateName State      City  \\\n",
      "0     61639         0       10025        Zip        NY    NY  New York   \n",
      "1     84654         1       60657        Zip        IL    IL   Chicago   \n",
      "2     61637         2       10023        Zip        NY    NY  New York   \n",
      "3     91982         3       77494        Zip        TX    TX      Katy   \n",
      "4     84616         4       60614        Zip        IL    IL   Chicago   \n",
      "\n",
      "                              Metro       CountyName  1996-01-31  ...  \\\n",
      "0       New York-Newark-Jersey City  New York County         nan  ...   \n",
      "1          Chicago-Naperville-Elgin      Cook County  360,618.00  ...   \n",
      "2       New York-Newark-Jersey City  New York County         nan  ...   \n",
      "3  Houston-The Woodlands-Sugar Land    Harris County  200,194.00  ...   \n",
      "4          Chicago-Naperville-Elgin      Cook County  547,552.00  ...   \n",
      "\n",
      "    2020-05-31   2020-06-30   2020-07-31   2020-08-31   2020-09-30  \\\n",
      "0 1,251,067.00 1,243,911.00 1,242,393.00 1,243,116.00 1,249,957.00   \n",
      "1   964,280.00   964,191.00   965,875.00   968,256.00   973,015.00   \n",
      "2 1,533,387.00 1,534,731.00 1,533,831.00 1,534,093.00 1,534,862.00   \n",
      "3   337,319.00   338,148.00   338,871.00   340,299.00   341,862.00   \n",
      "4 1,204,098.00 1,205,314.00 1,208,072.00 1,211,021.00 1,216,680.00   \n",
      "\n",
      "    2020-10-31   2020-11-30   2020-12-31   2021-01-31   2021-02-28  \n",
      "0 1,253,918.00 1,256,918.00 1,260,189.00 1,255,048.00 1,247,237.00  \n",
      "1   978,022.00   981,918.00   985,428.00   987,405.00   991,571.00  \n",
      "2 1,541,697.00 1,549,960.00 1,557,635.00 1,558,745.00 1,558,968.00  \n",
      "3   344,329.00   347,347.00   351,632.00   355,788.00   360,651.00  \n",
      "4 1,222,663.00 1,228,051.00 1,233,108.00 1,236,396.00 1,243,489.00  \n",
      "\n",
      "[5 rows x 311 columns]\n"
     ]
    },
    {
     "data": {
      "text/plain": [
       "(30311, 311)"
      ]
     },
     "execution_count": 1,
     "metadata": {},
     "output_type": "execute_result"
    }
   ],
   "source": [
    "import pandas as pd\n",
    "import matplotlib.pyplot as plt\n",
    "import numpy as np\n",
    "\n",
    "# Set some options for pandas and to have matplotlib show the charts in the notebook\n",
    "pd.set_option('display.max_rows', 1000)\n",
    "pd.options.display.float_format = '{:,.2f}'.format\n",
    "%matplotlib inline\n",
    "\n",
    "# Import raw data\n",
    "house_raw = pd.read_csv('raw_data/house_value_raw.csv', index_col=False)\n",
    "print(house_raw.head())\n",
    "house_raw.shape"
   ]
  },
  {
   "cell_type": "code",
   "execution_count": 2,
   "metadata": {},
   "outputs": [
    {
     "name": "stdout",
     "output_type": "stream",
     "text": [
      "    RegionID  SizeRank  RegionName RegionType StateName State           City  \\\n",
      "13     97564        13       94109        Zip        CA    CA  San Francisco   \n",
      "21     96107        22       90250        Zip        CA    CA      Hawthorne   \n",
      "39     97771        40       94565        Zip        CA    CA      Pittsburg   \n",
      "43     96027        44       90046        Zip        CA    CA    Los Angeles   \n",
      "87     97711        88       94501        Zip        CA    CA        Alameda   \n",
      "\n",
      "                             Metro            CountyName  1996-01-31  ...  \\\n",
      "13   San Francisco-Oakland-Hayward  San Francisco County  559,314.00  ...   \n",
      "21  Los Angeles-Long Beach-Anaheim    Los Angeles County  173,716.00  ...   \n",
      "39   San Francisco-Oakland-Hayward   Contra Costa County         nan  ...   \n",
      "43  Los Angeles-Long Beach-Anaheim    Los Angeles County  172,655.00  ...   \n",
      "87   San Francisco-Oakland-Hayward        Alameda County  170,395.00  ...   \n",
      "\n",
      "     2020-05-31   2020-06-30   2020-07-31   2020-08-31   2020-09-30  \\\n",
      "13 2,881,829.00 2,864,634.00 2,836,185.00 2,820,699.00 2,802,867.00   \n",
      "21   703,189.00   705,364.00   710,779.00   718,817.00   727,463.00   \n",
      "39   586,502.00   587,357.00   589,219.00   596,210.00   602,706.00   \n",
      "43 1,896,281.00 1,908,020.00 1,923,969.00 1,939,310.00 1,949,850.00   \n",
      "87 1,118,709.00 1,118,504.00 1,119,384.00 1,129,672.00 1,141,661.00   \n",
      "\n",
      "     2020-10-31   2020-11-30   2020-12-31   2021-01-31   2021-02-28  \n",
      "13 2,780,140.00 2,749,876.00 2,720,780.00 2,694,924.00 2,668,327.00  \n",
      "21   735,541.00   743,234.00   749,477.00   755,645.00   762,708.00  \n",
      "39   609,250.00   614,352.00   619,271.00   626,625.00   636,088.00  \n",
      "43 1,956,774.00 1,966,135.00 1,978,031.00 1,994,611.00 2,008,581.00  \n",
      "87 1,159,710.00 1,176,914.00 1,189,252.00 1,196,627.00 1,210,257.00  \n",
      "\n",
      "[5 rows x 311 columns]\n",
      "(1684, 311)\n"
     ]
    }
   ],
   "source": [
    "# Triming data to only include California\n",
    "house_raw = house_raw.copy()[house_raw.State == 'CA']\n",
    "print(house_raw.head())\n",
    "print(house_raw.shape)"
   ]
  },
  {
   "cell_type": "code",
   "execution_count": 3,
   "metadata": {},
   "outputs": [
    {
     "name": "stdout",
     "output_type": "stream",
     "text": [
      "     RegionID  SizeRank  RegionName RegionType StateName State         City  \\\n",
      "21      96107        22       90250        Zip        CA    CA    Hawthorne   \n",
      "43      96027        44       90046        Zip        CA    CA  Los Angeles   \n",
      "98      96015        99       90034        Zip        CA    CA  Los Angeles   \n",
      "111     96239       112       90805        Zip        CA    CA   Long Beach   \n",
      "113     96193       114       90650        Zip        CA    CA      Norwalk   \n",
      "\n",
      "                              Metro          CountyName  1996-01-31  ...  \\\n",
      "21   Los Angeles-Long Beach-Anaheim  Los Angeles County  173,716.00  ...   \n",
      "43   Los Angeles-Long Beach-Anaheim  Los Angeles County  172,655.00  ...   \n",
      "98   Los Angeles-Long Beach-Anaheim  Los Angeles County  260,983.00  ...   \n",
      "111  Los Angeles-Long Beach-Anaheim  Los Angeles County  137,652.00  ...   \n",
      "113  Los Angeles-Long Beach-Anaheim  Los Angeles County  147,316.00  ...   \n",
      "\n",
      "      2020-05-31   2020-06-30   2020-07-31   2020-08-31   2020-09-30  \\\n",
      "21    703,189.00   705,364.00   710,779.00   718,817.00   727,463.00   \n",
      "43  1,896,281.00 1,908,020.00 1,923,969.00 1,939,310.00 1,949,850.00   \n",
      "98  1,540,503.00 1,541,875.00 1,558,082.00 1,577,130.00 1,595,912.00   \n",
      "111   512,128.00   513,450.00   517,768.00   524,059.00   531,090.00   \n",
      "113   523,094.00   524,934.00   529,282.00   535,352.00   541,878.00   \n",
      "\n",
      "      2020-10-31   2020-11-30   2020-12-31   2021-01-31   2021-02-28  \n",
      "21    735,541.00   743,234.00   749,477.00   755,645.00   762,708.00  \n",
      "43  1,956,774.00 1,966,135.00 1,978,031.00 1,994,611.00 2,008,581.00  \n",
      "98  1,596,582.00 1,596,692.00 1,593,927.00 1,595,844.00 1,597,052.00  \n",
      "111   536,734.00   542,243.00   547,355.00   553,252.00   559,104.00  \n",
      "113   547,908.00   553,721.00   558,936.00   564,433.00   569,930.00  \n",
      "\n",
      "[5 rows x 311 columns]\n",
      "(362, 311)\n",
      "Los Angeles County    275\n",
      "Orange County          87\n",
      "Name: CountyName, dtype: int64\n"
     ]
    }
   ],
   "source": [
    "# Triming data to only include Los Angeles Metro Politant\n",
    "house_raw = house_raw.copy()[house_raw.Metro == 'Los Angeles-Long Beach-Anaheim']\n",
    "print(house_raw.head())\n",
    "print(house_raw.shape)\n",
    "print(house_raw.CountyName.value_counts())\n",
    "\n",
    "# Export trimmed data to csv\n",
    "house_raw.to_csv('data/1_house_value_LA.csv', index=False)"
   ]
  },
  {
   "cell_type": "markdown",
   "metadata": {},
   "source": [
    "## 2. Process data - extract average house values by year"
   ]
  },
  {
   "cell_type": "code",
   "execution_count": 4,
   "metadata": {},
   "outputs": [
    {
     "name": "stdout",
     "output_type": "stream",
     "text": [
      "   RegionID  SizeRank  RegionName RegionType StateName State         City  \\\n",
      "0     96107        22       90250        Zip        CA    CA    Hawthorne   \n",
      "1     96027        44       90046        Zip        CA    CA  Los Angeles   \n",
      "2     96015        99       90034        Zip        CA    CA  Los Angeles   \n",
      "3     96239       112       90805        Zip        CA    CA   Long Beach   \n",
      "4     96193       114       90650        Zip        CA    CA      Norwalk   \n",
      "\n",
      "                            Metro          CountyName  1996-01-31  ...  \\\n",
      "0  Los Angeles-Long Beach-Anaheim  Los Angeles County  173,716.00  ...   \n",
      "1  Los Angeles-Long Beach-Anaheim  Los Angeles County  172,655.00  ...   \n",
      "2  Los Angeles-Long Beach-Anaheim  Los Angeles County  260,983.00  ...   \n",
      "3  Los Angeles-Long Beach-Anaheim  Los Angeles County  137,652.00  ...   \n",
      "4  Los Angeles-Long Beach-Anaheim  Los Angeles County  147,316.00  ...   \n",
      "\n",
      "    2020-05-31   2020-06-30   2020-07-31   2020-08-31   2020-09-30  \\\n",
      "0   703,189.00   705,364.00   710,779.00   718,817.00   727,463.00   \n",
      "1 1,896,281.00 1,908,020.00 1,923,969.00 1,939,310.00 1,949,850.00   \n",
      "2 1,540,503.00 1,541,875.00 1,558,082.00 1,577,130.00 1,595,912.00   \n",
      "3   512,128.00   513,450.00   517,768.00   524,059.00   531,090.00   \n",
      "4   523,094.00   524,934.00   529,282.00   535,352.00   541,878.00   \n",
      "\n",
      "    2020-10-31   2020-11-30   2020-12-31   2021-01-31   2021-02-28  \n",
      "0   735,541.00   743,234.00   749,477.00   755,645.00   762,708.00  \n",
      "1 1,956,774.00 1,966,135.00 1,978,031.00 1,994,611.00 2,008,581.00  \n",
      "2 1,596,582.00 1,596,692.00 1,593,927.00 1,595,844.00 1,597,052.00  \n",
      "3   536,734.00   542,243.00   547,355.00   553,252.00   559,104.00  \n",
      "4   547,908.00   553,721.00   558,936.00   564,433.00   569,930.00  \n",
      "\n",
      "[5 rows x 311 columns]\n",
      "(362, 311)\n",
      "Los Angeles County    275\n",
      "Orange County          87\n",
      "Name: CountyName, dtype: int64\n",
      "Index(['RegionID', 'SizeRank', 'RegionName', 'RegionType', 'StateName',\n",
      "       'State', 'City', 'Metro', 'CountyName', '1996-01-31',\n",
      "       ...\n",
      "       '2020-05-31', '2020-06-30', '2020-07-31', '2020-08-31', '2020-09-30',\n",
      "       '2020-10-31', '2020-11-30', '2020-12-31', '2021-01-31', '2021-02-28'],\n",
      "      dtype='object', length=311)\n"
     ]
    }
   ],
   "source": [
    "# Import data from trimmed data\n",
    "house = pd.read_csv('data/1_house_value_LA.csv', index_col=False)\n",
    "print(house.head())\n",
    "print(house.shape)\n",
    "print(house.CountyName.value_counts())\n",
    "print(house.columns)"
   ]
  },
  {
   "cell_type": "code",
   "execution_count": 5,
   "metadata": {},
   "outputs": [
    {
     "name": "stdout",
     "output_type": "stream",
     "text": [
      "0    1996-01-31\n",
      "1    1996-02-29\n",
      "2    1996-03-31\n",
      "3    1996-04-30\n",
      "4    1996-05-31\n",
      "dtype: object\n",
      "count            302\n",
      "unique           302\n",
      "top       2011-10-31\n",
      "freq               1\n",
      "dtype: object\n",
      "0    1996\n",
      "1    1996\n",
      "2    1996\n",
      "3    1996\n",
      "4    1996\n",
      "dtype: object\n",
      "2006    12\n",
      "2008    12\n",
      "2010    12\n",
      "1999    12\n",
      "2003    12\n",
      "dtype: int64\n",
      "   RegionID  SizeRank  RegionName RegionType StateName State         City  \\\n",
      "0     96107        22       90250        Zip        CA    CA    Hawthorne   \n",
      "1     96027        44       90046        Zip        CA    CA  Los Angeles   \n",
      "2     96015        99       90034        Zip        CA    CA  Los Angeles   \n",
      "3     96239       112       90805        Zip        CA    CA   Long Beach   \n",
      "4     96193       114       90650        Zip        CA    CA      Norwalk   \n",
      "\n",
      "                            Metro          CountyName       1996  ...  \\\n",
      "0  Los Angeles-Long Beach-Anaheim  Los Angeles County 173,716.00  ...   \n",
      "1  Los Angeles-Long Beach-Anaheim  Los Angeles County 172,655.00  ...   \n",
      "2  Los Angeles-Long Beach-Anaheim  Los Angeles County 260,983.00  ...   \n",
      "3  Los Angeles-Long Beach-Anaheim  Los Angeles County 137,652.00  ...   \n",
      "4  Los Angeles-Long Beach-Anaheim  Los Angeles County 147,316.00  ...   \n",
      "\n",
      "          2020         2020         2020         2020         2020  \\\n",
      "0   703,189.00   705,364.00   710,779.00   718,817.00   727,463.00   \n",
      "1 1,896,281.00 1,908,020.00 1,923,969.00 1,939,310.00 1,949,850.00   \n",
      "2 1,540,503.00 1,541,875.00 1,558,082.00 1,577,130.00 1,595,912.00   \n",
      "3   512,128.00   513,450.00   517,768.00   524,059.00   531,090.00   \n",
      "4   523,094.00   524,934.00   529,282.00   535,352.00   541,878.00   \n",
      "\n",
      "          2020         2020         2020         2021         2021  \n",
      "0   735,541.00   743,234.00   749,477.00   755,645.00   762,708.00  \n",
      "1 1,956,774.00 1,966,135.00 1,978,031.00 1,994,611.00 2,008,581.00  \n",
      "2 1,596,582.00 1,596,692.00 1,593,927.00 1,595,844.00 1,597,052.00  \n",
      "3   536,734.00   542,243.00   547,355.00   553,252.00   559,104.00  \n",
      "4   547,908.00   553,721.00   558,936.00   564,433.00   569,930.00  \n",
      "\n",
      "[5 rows x 311 columns]\n"
     ]
    }
   ],
   "source": [
    "# Extract all the month from header row, start from column index 9\n",
    "years = pd.Series(house.columns[9:])\n",
    "print(years.head())\n",
    "print(years.describe())\n",
    "\n",
    "# Convert from month to year data, which is the first 4 numbers\n",
    "years = years.apply(lambda x: x[:4])\n",
    "print(years.head())\n",
    "print(years.value_counts().head())\n",
    "\n",
    "# Update columns' name for house dataset:\n",
    "house.columns = list(house.columns[:9]) + list(years)\n",
    "print(house.head())"
   ]
  },
  {
   "cell_type": "code",
   "execution_count": 7,
   "metadata": {
    "scrolled": true
   },
   "outputs": [
    {
     "name": "stdout",
     "output_type": "stream",
     "text": [
      "     zip         city              county       1996       1997       1998  \\\n",
      "0  90250    Hawthorne  Los Angeles County 175,496.25 174,246.42 184,904.75   \n",
      "1  90046  Los Angeles  Los Angeles County 175,135.00 187,405.25 214,114.33   \n",
      "2  90034  Los Angeles  Los Angeles County 262,943.58 272,706.58 309,756.17   \n",
      "3  90805   Long Beach  Los Angeles County 138,491.42 136,872.75 144,182.75   \n",
      "4  90650      Norwalk  Los Angeles County 146,735.25 144,758.58 151,095.92   \n",
      "\n",
      "        1999       2000       2001       2002  ...       2012       2013  \\\n",
      "0 199,459.33 218,407.17 241,722.08 277,739.08  ... 372,409.25 432,330.00   \n",
      "1 242,637.42 271,987.17 296,312.17 327,704.83  ... 627,627.67 749,164.75   \n",
      "2 351,412.92 384,412.67 422,400.00 476,366.08  ... 732,152.00 854,976.50   \n",
      "3 152,110.58 166,593.08 183,235.33 208,686.08  ... 261,307.33 312,950.17   \n",
      "4 161,769.75 174,862.00 191,337.92 220,191.92  ... 290,623.00 336,330.08   \n",
      "\n",
      "        2014       2015         2016         2017         2018         2019  \\\n",
      "0 470,687.00 501,405.42   545,636.08   595,240.58   646,392.50   665,818.50   \n",
      "1 854,487.33 998,360.50 1,188,149.33 1,381,676.92 1,606,997.67 1,748,019.50   \n",
      "2 924,020.17 989,719.92 1,123,381.42 1,263,748.58 1,414,644.67 1,439,304.33   \n",
      "3 344,499.50 366,965.42   400,663.33   434,646.67   472,310.92   481,324.25   \n",
      "4 373,699.00 396,798.25   428,025.08   459,284.17   491,005.42   495,663.42   \n",
      "\n",
      "          2020         2021  \n",
      "0   713,615.75   759,176.50  \n",
      "1 1,913,734.25 2,001,596.00  \n",
      "2 1,555,366.75 1,596,448.00  \n",
      "3   519,825.00   556,178.00  \n",
      "4   530,950.83   567,181.50  \n",
      "\n",
      "[5 rows x 29 columns]\n"
     ]
    }
   ],
   "source": [
    "# Create a new data set to store house value by mean value of each year\n",
    "house_yearly = pd.DataFrame([house.RegionName, house.City, house.CountyName]).T\n",
    "house_yearly.columns = ['zip','city','county']\n",
    "\n",
    "# Calculate mean house values for each year and add to house_yearly dataset\n",
    "for year in list(years.unique()):\n",
    "    house_yearly[year] = house.loc[:,year].mean(axis=1)\n",
    "    \n",
    "print(house_yearly.head())\n",
    "# Export house_yearly values to csv\n",
    "house_yearly.to_csv('data/7_house_by_year.csv', index=False)"
   ]
  },
  {
   "cell_type": "code",
   "execution_count": null,
   "metadata": {},
   "outputs": [],
   "source": []
  }
 ],
 "metadata": {
  "kernelspec": {
   "display_name": "Python 3",
   "language": "python",
   "name": "python3"
  },
  "language_info": {
   "codemirror_mode": {
    "name": "ipython",
    "version": 3
   },
   "file_extension": ".py",
   "mimetype": "text/x-python",
   "name": "python",
   "nbconvert_exporter": "python",
   "pygments_lexer": "ipython3",
   "version": "3.8.5"
  }
 },
 "nbformat": 4,
 "nbformat_minor": 4
}
