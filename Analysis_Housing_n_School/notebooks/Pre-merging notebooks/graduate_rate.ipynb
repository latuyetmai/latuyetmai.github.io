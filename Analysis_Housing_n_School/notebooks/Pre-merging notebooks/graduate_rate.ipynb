{
 "cells": [
  {
   "cell_type": "markdown",
   "metadata": {},
   "source": [
    "# Gradute Rate 2019-20"
   ]
  },
  {
   "cell_type": "code",
   "execution_count": 1,
   "metadata": {},
   "outputs": [],
   "source": [
    "import pandas as pd\n",
    "import matplotlib.pyplot as plt\n",
    "import numpy as np\n",
    "\n",
    "# Set some options for pandas and to have matplotlib show the charts in the notebook\n",
    "pd.set_option('display.max_rows', 1000)\n",
    "pd.options.display.float_format = '{:,.2f}'.format\n",
    "%matplotlib inline"
   ]
  },
  {
   "cell_type": "code",
   "execution_count": 2,
   "metadata": {},
   "outputs": [
    {
     "name": "stdout",
     "output_type": "stream",
     "text": [
      "(241058, 34)\n"
     ]
    }
   ],
   "source": [
    "gr_20 = pd.read_csv('raw_data/graduate_rate_raw.csv')\n",
    "print(gr_20.shape)\n",
    "gr_20.columns = gr_20.columns.str.replace('[()]', '').str.replace('/','_').str.replace('\\'','').str.replace('\\.*\\s+', '_').str.lower()\n",
    "gr_20 = gr_20.loc[np.logical_and(gr_20.reportingcategory == 'TA', gr_20.aggregatelevel == 'S')]\n",
    "gr_20 = gr_20.loc[np.logical_and(gr_20.charterschool == 'All', gr_20.dass == 'All')]\n",
    "gr_20 = gr_20[gr_20['countyname'].isin(['Los Angeles', 'Orange'])]\n",
    "gr_20 = gr_20[gr_20.regular_hs_diploma_graduates_rate != '*']\n",
    "gr_20 = gr_20.astype({'districtcode': int, 'schoolcode': int, 'regular_hs_diploma_graduates_rate': float})\n",
    "gr_20 = gr_20[gr_20.schoolcode != 0]\n",
    "gr_20.to_csv('data/4_graduate_rate.csv', index=False)"
   ]
  },
  {
   "cell_type": "code",
   "execution_count": 7,
   "metadata": {},
   "outputs": [
    {
     "name": "stdout",
     "output_type": "stream",
     "text": [
      "       academicyear aggregatelevel  countycode  districtcode  schoolcode  \\\n",
      "99795       2019-20              S          19         10199      100776   \n",
      "99863       2019-20              S          19         10199      112128   \n",
      "99931       2019-20              S          19         10199      115030   \n",
      "99998       2019-20              S          19         10199      115212   \n",
      "100099      2019-20              S          19         10199      121897   \n",
      "\n",
      "         countyname                            districtname  \\\n",
      "99795   Los Angeles  Los Angeles County Office of Education   \n",
      "99863   Los Angeles  Los Angeles County Office of Education   \n",
      "99931   Los Angeles  Los Angeles County Office of Education   \n",
      "99998   Los Angeles  Los Angeles County Office of Education   \n",
      "100099  Los Angeles  Los Angeles County Office of Education   \n",
      "\n",
      "                                               schoolname charterschool dass  \\\n",
      "99795   North Valley Military Institute College Prepar...           All  All   \n",
      "99863         Aspire Ollin University Preparatory Academy           All  All   \n",
      "99931                          Magnolia Science Academy 3           All  All   \n",
      "99998                          Magnolia Science Academy 2           All  All   \n",
      "100099                              Central Juvenile Hall           All  All   \n",
      "\n",
      "        ... sped_certificate_count sped_certificate_rate ged_completer_count  \\\n",
      "99795   ...                      0                     0                   0   \n",
      "99863   ...                      0                     0                   0   \n",
      "99931   ...                      0                     0                   0   \n",
      "99998   ...                      0                     0                   0   \n",
      "100099  ...                      0                     0                   0   \n",
      "\n",
      "        ged_completer_rate other_transfer_count other_transfer_rate  \\\n",
      "99795                    0                    2                 2.9   \n",
      "99863                    0                    0                   0   \n",
      "99931                    0                    0                   0   \n",
      "99998                    0                    0                   0   \n",
      "100099                   0                    0                   0   \n",
      "\n",
      "       dropout_count dropout_rate still_enrolled_count still_enrolled_rate  \n",
      "99795              0            0                    2                 2.9  \n",
      "99863              1          1.3                    3                 3.8  \n",
      "99931              2          3.6                    0                   0  \n",
      "99998              2            5                    0                   0  \n",
      "100099            53         70.7                   19                25.3  \n",
      "\n",
      "[5 rows x 34 columns]\n",
      "(605, 34)\n"
     ]
    }
   ],
   "source": [
    "print(gr_20.head())\n",
    "print(gr_20.shape)"
   ]
  },
  {
   "cell_type": "code",
   "execution_count": 11,
   "metadata": {},
   "outputs": [
    {
     "name": "stdout",
     "output_type": "stream",
     "text": [
      "   County Code  District Code  School Code  Filler  Test Year  Type Id  \\\n",
      "0           19          10199       100776     nan       2019        9   \n",
      "1           19          10199       109660     nan       2019        9   \n",
      "2           19          10199       109942     nan       2019        9   \n",
      "3           19          10199       112128     nan       2019        9   \n",
      "4           19          10199       115030     nan       2019        9   \n",
      "\n",
      "   County Name                             District Name  \\\n",
      "0  Los Angeles   North Valley Military Institute College   \n",
      "1  Los Angeles         Aspire Antonio Maria Lugo Academy   \n",
      "2  Los Angeles    Los Angeles International Charter High   \n",
      "3  Los Angeles  Aspire Ollin University Preparatory Acad   \n",
      "4  Los Angeles                Magnolia Science Academy 3   \n",
      "\n",
      "                                         School Name  Zip Code  \n",
      "0  North Valley Military Institute College Prepar...     91352  \n",
      "1                  Aspire Antonio Maria Lugo Academy     90255  \n",
      "2             Los Angeles International Charter High     90042  \n",
      "3        Aspire Ollin University Preparatory Academy     90255  \n",
      "4                         Magnolia Science Academy 3     90746  \n"
     ]
    },
    {
     "data": {
      "text/html": [
       "<div>\n",
       "<style scoped>\n",
       "    .dataframe tbody tr th:only-of-type {\n",
       "        vertical-align: middle;\n",
       "    }\n",
       "\n",
       "    .dataframe tbody tr th {\n",
       "        vertical-align: top;\n",
       "    }\n",
       "\n",
       "    .dataframe thead th {\n",
       "        text-align: right;\n",
       "    }\n",
       "</style>\n",
       "<table border=\"1\" class=\"dataframe\">\n",
       "  <thead>\n",
       "    <tr style=\"text-align: right;\">\n",
       "      <th></th>\n",
       "      <th>schoolcode</th>\n",
       "      <th>zip</th>\n",
       "    </tr>\n",
       "  </thead>\n",
       "  <tbody>\n",
       "    <tr>\n",
       "      <th>0</th>\n",
       "      <td>100776</td>\n",
       "      <td>91352</td>\n",
       "    </tr>\n",
       "    <tr>\n",
       "      <th>1</th>\n",
       "      <td>109660</td>\n",
       "      <td>90255</td>\n",
       "    </tr>\n",
       "    <tr>\n",
       "      <th>2</th>\n",
       "      <td>109942</td>\n",
       "      <td>90042</td>\n",
       "    </tr>\n",
       "    <tr>\n",
       "      <th>3</th>\n",
       "      <td>112128</td>\n",
       "      <td>90255</td>\n",
       "    </tr>\n",
       "    <tr>\n",
       "      <th>4</th>\n",
       "      <td>115030</td>\n",
       "      <td>90746</td>\n",
       "    </tr>\n",
       "  </tbody>\n",
       "</table>\n",
       "</div>"
      ],
      "text/plain": [
       "   schoolcode    zip\n",
       "0      100776  91352\n",
       "1      109660  90255\n",
       "2      109942  90042\n",
       "3      112128  90255\n",
       "4      115030  90746"
      ]
     },
     "execution_count": 11,
     "metadata": {},
     "output_type": "execute_result"
    }
   ],
   "source": [
    "# Import public school data for merging\n",
    "school = pd.read_csv('data/8_public_school.csv', index_col=False)\n",
    "print(school.head())\n",
    "\n",
    "school_trim = pd.DataFrame([school['School Code'], school['Zip Code']]).T\n",
    "school_trim.columns = ['schoolcode', 'zip']\n",
    "school_trim.head()"
   ]
  },
  {
   "cell_type": "code",
   "execution_count": 14,
   "metadata": {},
   "outputs": [
    {
     "name": "stdout",
     "output_type": "stream",
     "text": [
      "   schoolcode    zip academicyear aggregatelevel  countycode  districtcode  \\\n",
      "0      100776  91352      2019-20              S          19         10199   \n",
      "1      109942  90042      2019-20              S          19         77289   \n",
      "2      112128  90255      2019-20              S          19         10199   \n",
      "3      115030  90746      2019-20              S          19         10199   \n",
      "4      115212  91406      2019-20              S          19         10199   \n",
      "\n",
      "    countyname                            districtname  \\\n",
      "0  Los Angeles  Los Angeles County Office of Education   \n",
      "1  Los Angeles  SBE - Los Angeles College Prep Academy   \n",
      "2  Los Angeles  Los Angeles County Office of Education   \n",
      "3  Los Angeles  Los Angeles County Office of Education   \n",
      "4  Los Angeles  Los Angeles County Office of Education   \n",
      "\n",
      "                                          schoolname charterschool  ...  \\\n",
      "0  North Valley Military Institute College Prepar...           All  ...   \n",
      "1                   Los Angeles College Prep Academy           All  ...   \n",
      "2        Aspire Ollin University Preparatory Academy           All  ...   \n",
      "3                         Magnolia Science Academy 3           All  ...   \n",
      "4                         Magnolia Science Academy 2           All  ...   \n",
      "\n",
      "  sped_certificate_count sped_certificate_rate ged_completer_count  \\\n",
      "0                      0                     0                   0   \n",
      "1                      1                   2.7                   0   \n",
      "2                      0                     0                   0   \n",
      "3                      0                     0                   0   \n",
      "4                      0                     0                   0   \n",
      "\n",
      "  ged_completer_rate  other_transfer_count other_transfer_rate dropout_count  \\\n",
      "0                  0                     2                 2.9             0   \n",
      "1                  0                     1                 2.7             4   \n",
      "2                  0                     0                   0             1   \n",
      "3                  0                     0                   0             2   \n",
      "4                  0                     0                   0             2   \n",
      "\n",
      "  dropout_rate still_enrolled_count still_enrolled_rate  \n",
      "0            0                    2                 2.9  \n",
      "1         10.8                    6                16.2  \n",
      "2          1.3                    3                 3.8  \n",
      "3          3.6                    0                   0  \n",
      "4            5                    0                   0  \n",
      "\n",
      "[5 rows x 35 columns]\n",
      "(508, 35)\n"
     ]
    }
   ],
   "source": [
    "# Merge graduation rate and school zip code\n",
    "merged = school_trim.merge(gr_20, on='schoolcode')\n",
    "print(merged.head())\n",
    "print(merged.shape)\n",
    "\n",
    "merged.to_csv('data/9_grad_rate_merged.csv', index=False)"
   ]
  }
 ],
 "metadata": {
  "kernelspec": {
   "display_name": "Python 3",
   "language": "python",
   "name": "python3"
  },
  "language_info": {
   "codemirror_mode": {
    "name": "ipython",
    "version": 3
   },
   "file_extension": ".py",
   "mimetype": "text/x-python",
   "name": "python",
   "nbconvert_exporter": "python",
   "pygments_lexer": "ipython3",
   "version": "3.8.5"
  }
 },
 "nbformat": 4,
 "nbformat_minor": 4
}
