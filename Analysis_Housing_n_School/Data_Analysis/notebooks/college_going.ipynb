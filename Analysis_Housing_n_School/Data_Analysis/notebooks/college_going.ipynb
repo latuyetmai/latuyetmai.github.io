{
 "cells": [
  {
   "cell_type": "markdown",
   "metadata": {},
   "source": [
    "# Going to College Rate "
   ]
  },
  {
   "cell_type": "code",
   "execution_count": 2,
   "metadata": {},
   "outputs": [
    {
     "name": "stdout",
     "output_type": "stream",
     "text": [
      "3.8.5 (default, Sep  3 2020, 21:29:08) [MSC v.1916 64 bit (AMD64)]\n",
      "1.19.2\n",
      "1.1.3\n"
     ]
    }
   ],
   "source": [
    "import sys\n",
    "print(sys.version)\n",
    "import numpy as np\n",
    "print(np.__version__)\n",
    "import pandas as pd\n",
    "pd.options.display.float_format = '{:.2f}'.format\n",
    "print(pd.__version__)\n",
    "import matplotlib.pyplot as plt\n",
    "%matplotlib inline"
   ]
  },
  {
   "cell_type": "code",
   "execution_count": 8,
   "metadata": {},
   "outputs": [],
   "source": [
    "cr = pd.read_csv('raw_data/college_going.csv')\n",
    "cr.columns = cr.columns.str.replace('\\s+', '_').str.lower()\n",
    "cr.columns = cr.columns.str.replace('-', '_')\n",
    "cr.college_going_rate = cr.college_going_rate.str[:-1]\n",
    "cr = cr.astype({'college_going_rate': float})"
   ]
  },
  {
   "cell_type": "code",
   "execution_count": 9,
   "metadata": {},
   "outputs": [
    {
     "data": {
      "text/plain": [
       "(452, 11)"
      ]
     },
     "execution_count": 9,
     "metadata": {},
     "output_type": "execute_result"
    }
   ],
   "source": [
    "cr.shape"
   ]
  },
  {
   "cell_type": "code",
   "execution_count": 10,
   "metadata": {},
   "outputs": [],
   "source": [
    "cr.to_csv('data/5_college_going.csv')"
   ]
  },
  {
   "cell_type": "code",
   "execution_count": 11,
   "metadata": {},
   "outputs": [
    {
     "data": {
      "text/html": [
       "<div>\n",
       "<style scoped>\n",
       "    .dataframe tbody tr th:only-of-type {\n",
       "        vertical-align: middle;\n",
       "    }\n",
       "\n",
       "    .dataframe tbody tr th {\n",
       "        vertical-align: top;\n",
       "    }\n",
       "\n",
       "    .dataframe thead th {\n",
       "        text-align: right;\n",
       "    }\n",
       "</style>\n",
       "<table border=\"1\" class=\"dataframe\">\n",
       "  <thead>\n",
       "    <tr style=\"text-align: right;\">\n",
       "      <th></th>\n",
       "      <th>school_district</th>\n",
       "      <th>name</th>\n",
       "      <th>high_school_completers</th>\n",
       "      <th>high_school_completers_enrolled_in_college</th>\n",
       "      <th>college_going_rate</th>\n",
       "      <th>university_of_california</th>\n",
       "      <th>california_state_university</th>\n",
       "      <th>california_community_college</th>\n",
       "      <th>in_state_private_2__and_4_year_college</th>\n",
       "      <th>out_of_state_4_year_college</th>\n",
       "      <th>out_of_state_2_year_college</th>\n",
       "    </tr>\n",
       "  </thead>\n",
       "  <tbody>\n",
       "    <tr>\n",
       "      <th>0</th>\n",
       "      <td>ABC Unified</td>\n",
       "      <td>ABC Secondary (Alternative)</td>\n",
       "      <td>19</td>\n",
       "      <td>1</td>\n",
       "      <td>5.30</td>\n",
       "      <td>0</td>\n",
       "      <td>0</td>\n",
       "      <td>1</td>\n",
       "      <td>0</td>\n",
       "      <td>0</td>\n",
       "      <td>0.00</td>\n",
       "    </tr>\n",
       "    <tr>\n",
       "      <th>1</th>\n",
       "      <td>ABC Unified</td>\n",
       "      <td>Artesia High</td>\n",
       "      <td>329</td>\n",
       "      <td>178</td>\n",
       "      <td>54.10</td>\n",
       "      <td>7</td>\n",
       "      <td>67</td>\n",
       "      <td>93</td>\n",
       "      <td>2</td>\n",
       "      <td>8</td>\n",
       "      <td>1.00</td>\n",
       "    </tr>\n",
       "    <tr>\n",
       "      <th>2</th>\n",
       "      <td>ABC Unified</td>\n",
       "      <td>Cerritos High</td>\n",
       "      <td>528</td>\n",
       "      <td>417</td>\n",
       "      <td>79.00</td>\n",
       "      <td>76</td>\n",
       "      <td>117</td>\n",
       "      <td>156</td>\n",
       "      <td>32</td>\n",
       "      <td>32</td>\n",
       "      <td>4.00</td>\n",
       "    </tr>\n",
       "    <tr>\n",
       "      <th>3</th>\n",
       "      <td>ABC Unified</td>\n",
       "      <td>Gahr (Richard) High</td>\n",
       "      <td>490</td>\n",
       "      <td>328</td>\n",
       "      <td>66.90</td>\n",
       "      <td>21</td>\n",
       "      <td>94</td>\n",
       "      <td>184</td>\n",
       "      <td>12</td>\n",
       "      <td>17</td>\n",
       "      <td>0.00</td>\n",
       "    </tr>\n",
       "    <tr>\n",
       "      <th>4</th>\n",
       "      <td>ABC Unified</td>\n",
       "      <td>Tracy (Wilbur) High (Continuation)</td>\n",
       "      <td>115</td>\n",
       "      <td>24</td>\n",
       "      <td>20.90</td>\n",
       "      <td>0</td>\n",
       "      <td>0</td>\n",
       "      <td>16</td>\n",
       "      <td>1</td>\n",
       "      <td>6</td>\n",
       "      <td>1.00</td>\n",
       "    </tr>\n",
       "  </tbody>\n",
       "</table>\n",
       "</div>"
      ],
      "text/plain": [
       "  school_district                                name high_school_completers  \\\n",
       "0     ABC Unified         ABC Secondary (Alternative)                     19   \n",
       "1     ABC Unified                        Artesia High                    329   \n",
       "2     ABC Unified                       Cerritos High                    528   \n",
       "3     ABC Unified                 Gahr (Richard) High                    490   \n",
       "4     ABC Unified  Tracy (Wilbur) High (Continuation)                    115   \n",
       "\n",
       "   high_school_completers_enrolled_in_college  college_going_rate  \\\n",
       "0                                           1                5.30   \n",
       "1                                         178               54.10   \n",
       "2                                         417               79.00   \n",
       "3                                         328               66.90   \n",
       "4                                          24               20.90   \n",
       "\n",
       "   university_of_california  california_state_university  \\\n",
       "0                         0                            0   \n",
       "1                         7                           67   \n",
       "2                        76                          117   \n",
       "3                        21                           94   \n",
       "4                         0                            0   \n",
       "\n",
       "   california_community_college  in_state_private_2__and_4_year_college  \\\n",
       "0                             1                                       0   \n",
       "1                            93                                       2   \n",
       "2                           156                                      32   \n",
       "3                           184                                      12   \n",
       "4                            16                                       1   \n",
       "\n",
       "   out_of_state_4_year_college  out_of_state_2_year_college  \n",
       "0                            0                         0.00  \n",
       "1                            8                         1.00  \n",
       "2                           32                         4.00  \n",
       "3                           17                         0.00  \n",
       "4                            6                         1.00  "
      ]
     },
     "execution_count": 11,
     "metadata": {},
     "output_type": "execute_result"
    }
   ],
   "source": [
    "cr.head()"
   ]
  },
  {
   "cell_type": "code",
   "execution_count": null,
   "metadata": {},
   "outputs": [],
   "source": []
  }
 ],
 "metadata": {
  "kernelspec": {
   "display_name": "Python 3",
   "language": "python",
   "name": "python3"
  },
  "language_info": {
   "codemirror_mode": {
    "name": "ipython",
    "version": 3
   },
   "file_extension": ".py",
   "mimetype": "text/x-python",
   "name": "python",
   "nbconvert_exporter": "python",
   "pygments_lexer": "ipython3",
   "version": "3.8.5"
  }
 },
 "nbformat": 4,
 "nbformat_minor": 4
}
