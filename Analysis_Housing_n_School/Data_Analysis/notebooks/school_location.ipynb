{
 "cells": [
  {
   "cell_type": "markdown",
   "metadata": {},
   "source": [
    "## 1. Triming Raw Data - Extract Los Angeles metropolitant data only\n",
    "\n",
    "Note: Raw data is not uploaded to GitHub. Do not run this section without downloading the raw_data folder!"
   ]
  },
  {
   "cell_type": "code",
   "execution_count": 5,
   "metadata": {},
   "outputs": [],
   "source": [
    "import pandas as pd\n",
    "import matplotlib.pyplot as plt\n",
    "import numpy as np\n",
    "\n",
    "# Set some options for pandas and to have matplotlib show the charts in the notebook\n",
    "pd.set_option('display.max_rows', 1000)\n",
    "pd.options.display.float_format = '{:,.2f}'.format\n",
    "%matplotlib inline\n"
   ]
  },
  {
   "cell_type": "code",
   "execution_count": 3,
   "metadata": {},
   "outputs": [
    {
     "data": {
      "text/plain": [
       "{'encoding': 'ISO-8859-1', 'confidence': 0.73, 'language': ''}"
      ]
     },
     "execution_count": 3,
     "metadata": {},
     "output_type": "execute_result"
    }
   ],
   "source": [
    "# Check raw data for import, as decode error using 'utf-8'\n",
    "import chardet\n",
    "\n",
    "with open('raw_data/school_location_raw.txt','rb') as file:\n",
    "    result = chardet.detect(file.read())\n",
    "result"
   ]
  },
  {
   "cell_type": "code",
   "execution_count": 8,
   "metadata": {},
   "outputs": [
    {
     "name": "stdout",
     "output_type": "stream",
     "text": [
      "   County Code  District Code  School Code  Filler  Test Year  Type Id  \\\n",
      "0           37          68056       114686     nan       2019        7   \n",
      "1           37          68056      6038111     nan       2019        7   \n",
      "2           37          68056      6088983     nan       2019        7   \n",
      "3           37          68056      6110696     nan       2019        7   \n",
      "4           37          68056      6115620     nan       2019        7   \n",
      "\n",
      "  County Name             District Name                 School Name Zip Code  \n",
      "0   San Diego  Del Mar Union Elementary                   Ocean Air    92130  \n",
      "1   San Diego  Del Mar Union Elementary  Del Mar Heights Elementary    92014  \n",
      "2   San Diego  Del Mar Union Elementary    Del Mar Hills Elementary    92014  \n",
      "3   San Diego  Del Mar Union Elementary   Carmel Del Mar Elementary    92130  \n",
      "4   San Diego  Del Mar Union Elementary     Ashley Falls Elementary    92130  \n",
      "(11389, 10)\n",
      "count           11389\n",
      "unique             59\n",
      "top       Los Angeles\n",
      "freq             2331\n",
      "Name: County Name, dtype: object\n",
      "['San Diego' 'San Francisco' 'San Joaquin' 'San Luis Obispo'\n",
      " 'State of California' 'Alameda' 'Alpine' 'Amador' 'Butte' 'Calaveras'\n",
      " 'Colusa' 'Contra Costa' 'Del Norte' 'El Dorado' 'Fresno' 'San Mateo'\n",
      " 'Santa Barbara' 'Santa Clara' 'Santa Cruz' 'Shasta' 'Sierra' 'Siskiyou'\n",
      " 'Solano' 'Sonoma' 'Stanislaus' 'Sutter' 'Tehama' 'Trinity' 'Tulare'\n",
      " 'Tuolumne' 'Glenn' 'Humboldt' 'Imperial' 'Inyo' 'Kern' 'Kings' 'Lake'\n",
      " 'Lassen' 'Los Angeles' 'Ventura' 'Yolo' 'Yuba' 'Madera' 'Marin'\n",
      " 'Mariposa' 'Mendocino' 'Merced' 'Modoc' 'Mono' 'Monterey' 'Napa' 'Nevada'\n",
      " 'Orange' 'Placer' 'Plumas' 'Riverside' 'Sacramento' 'San Benito'\n",
      " 'San Bernardino']\n"
     ]
    }
   ],
   "source": [
    "# Import raw data\n",
    "school_raw = pd.read_csv('raw_data/school_location_raw.txt', encoding='ISO-8859-1',  delimiter=',')\n",
    "print(school_raw.head())\n",
    "print(school_raw.shape)\n",
    "print(school_raw['County Name'].describe())\n",
    "print(school_raw['County Name'].unique())"
   ]
  },
  {
   "cell_type": "code",
   "execution_count": 10,
   "metadata": {
    "scrolled": true
   },
   "outputs": [
    {
     "name": "stdout",
     "output_type": "stream",
     "text": [
      "      County Code  District Code  School Code  Filler  Test Year  Type Id  \\\n",
      "5435           19              0            0     nan       2019        5   \n",
      "5436           19          10199            0     nan       2019        6   \n",
      "5437           19          10199       100776     nan       2019        9   \n",
      "5438           19          10199       109660     nan       2019        9   \n",
      "5439           19          10199       109942     nan       2019        9   \n",
      "\n",
      "      County Name                            District Name  \\\n",
      "5435  Los Angeles                                      NaN   \n",
      "5436  Los Angeles   Los Angeles County Office of Education   \n",
      "5437  Los Angeles  North Valley Military Institute College   \n",
      "5438  Los Angeles        Aspire Antonio Maria Lugo Academy   \n",
      "5439  Los Angeles   Los Angeles International Charter High   \n",
      "\n",
      "                                            School Name Zip Code  \n",
      "5435                                                NaN           \n",
      "5436                                                NaN           \n",
      "5437  North Valley Military Institute College Prepar...    91352  \n",
      "5438                  Aspire Antonio Maria Lugo Academy    90255  \n",
      "5439             Los Angeles International Charter High    90042  \n",
      "(2992, 10)\n",
      "Los Angeles    2331\n",
      "Orange          661\n",
      "Name: County Name, dtype: int64\n"
     ]
    }
   ],
   "source": [
    "# Triming data to only include Los Angeles Metro Politant\n",
    "# Select Los Angeles & Orange County only\n",
    "school_raw = school_raw.copy()[(school_raw['County Name'] == 'Los Angeles') | \n",
    "                               (school_raw['County Name'] == 'Orange')]\n",
    "print(school_raw.head())\n",
    "print(school_raw.shape)\n",
    "print(school_raw['County Name'].value_counts())\n",
    "\n",
    "# Export trimmed data to csv\n",
    "school_raw.to_csv('data/2_school_location.csv', index=False)"
   ]
  },
  {
   "cell_type": "code",
   "execution_count": 11,
   "metadata": {},
   "outputs": [
    {
     "name": "stdout",
     "output_type": "stream",
     "text": [
      "19    2331\n",
      "30     661\n",
      "Name: County Code, dtype: int64\n"
     ]
    }
   ],
   "source": [
    "print(school_raw['County Code'].value_counts())"
   ]
  },
  {
   "cell_type": "markdown",
   "metadata": {},
   "source": [
    "## 2. Process data - Public & Charter School only\n",
    "\n",
    "Below school type are not considered standard public schools:\n",
    "- Continuation Schools (Having Continuation in the school name)\n",
    "- Alternative Schools (Having \"Alternative in the school name)\n",
    "- Home & Hospital Instruction (Having \"Home\" in the school name)\n",
    "- Juvenile Court Schools (Having \"Juvenile\" in the school name)\n",
    "- Opportunity Education (Having \"Opportunity\" in the school name)\n",
    "- Community Day Schools (Having \"Community Day\" in the school name)"
   ]
  },
  {
   "cell_type": "code",
   "execution_count": 44,
   "metadata": {
    "scrolled": true
   },
   "outputs": [
    {
     "name": "stdout",
     "output_type": "stream",
     "text": [
      "<class 'pandas.core.series.Series'>\n",
      "2\n",
      "Aspire Antonio Maria Lugo Academy\n",
      "0     True\n",
      "1    False\n",
      "dtype: bool\n"
     ]
    }
   ],
   "source": [
    "# Function to check if a school is a normal public school\n",
    "def normal_public_school(series):\n",
    "    '''Return True if the school is a normal public school.\n",
    "    Which means it does not have the special term in the school name.\n",
    "    Special terms are: Continuation, Alternative, Home, Juvenile, (Opportunity), Community Day'''\n",
    "    \n",
    "    terms = ['continuation', 'alternative', 'home', 'juvenile', '(opportunity)', 'community day', 'not school']\n",
    "    returns = []\n",
    "    \n",
    "    for j in range(series.size):\n",
    "        for term in terms:\n",
    "            if term in series[j].lower():\n",
    "                returns.append(False)\n",
    "                break\n",
    "            else:\n",
    "                continue\n",
    "        else:\n",
    "            returns.append(True)\n",
    "    \n",
    "    return pd.Series(returns)\n",
    "\n",
    "# Test normal_public_school function:\n",
    "school1 = \"Aspire Antonio Maria Lugo Academy\"\n",
    "school2 = 'KIPP Academy (Opportunity)'\n",
    "test_school = pd.Series([school1, school2])\n",
    "print(type(test_school))\n",
    "\n",
    "print(test_school.size)\n",
    "print(test_school[0])\n",
    "print(normal_public_school(test_school))"
   ]
  },
  {
   "cell_type": "code",
   "execution_count": 55,
   "metadata": {},
   "outputs": [
    {
     "name": "stdout",
     "output_type": "stream",
     "text": [
      "      County Code  District Code  School Code  Filler  Test Year  Type Id  \\\n",
      "5437           19          10199       100776     nan       2019        9   \n",
      "5438           19          10199       109660     nan       2019        9   \n",
      "5439           19          10199       109942     nan       2019        9   \n",
      "5440           19          10199       112128     nan       2019        9   \n",
      "5441           19          10199       115030     nan       2019        9   \n",
      "5442           19          10199       115212     nan       2019        9   \n",
      "5443           19          10199       121772     nan       2019        9   \n",
      "5444           19          10199       121822     nan       2019        7   \n",
      "5447           19          10199       121905     nan       2019        7   \n",
      "5448           19          10199       121921     nan       2019        7   \n",
      "\n",
      "      County Name                             District Name  \\\n",
      "5437  Los Angeles   North Valley Military Institute College   \n",
      "5438  Los Angeles         Aspire Antonio Maria Lugo Academy   \n",
      "5439  Los Angeles    Los Angeles International Charter High   \n",
      "5440  Los Angeles  Aspire Ollin University Preparatory Acad   \n",
      "5441  Los Angeles                Magnolia Science Academy 3   \n",
      "5442  Los Angeles                Magnolia Science Academy 2   \n",
      "5443  Los Angeles              Environmental Charter Middle   \n",
      "5444  Los Angeles    Los Angeles County Office of Education   \n",
      "5447  Los Angeles    Los Angeles County Office of Education   \n",
      "5448  Los Angeles    Los Angeles County Office of Education   \n",
      "\n",
      "                                            School Name Zip Code  \n",
      "5437  North Valley Military Institute College Prepar...    91352  \n",
      "5438                  Aspire Antonio Maria Lugo Academy    90255  \n",
      "5439             Los Angeles International Charter High    90042  \n",
      "5440        Aspire Ollin University Preparatory Academy    90255  \n",
      "5441                         Magnolia Science Academy 3    90746  \n",
      "5442                         Magnolia Science Academy 2    91406  \n",
      "5443                       Environmental Charter Middle    90247  \n",
      "5444                                   Nidorf, Barry J.    91342  \n",
      "5447                                Kirby, Dorothy Camp    90040  \n",
      "5448                             Afflerbaugh-Paige Camp    91750  \n",
      "(2754, 10)\n"
     ]
    }
   ],
   "source": [
    "# Filter out non-standard public school to reduce result biases\n",
    "school_raw['School Name'].fillna('Not School', inplace=True)\n",
    "\n",
    "school = school_raw[~school_raw['School Name'].str.contains('Continuation|Alternative|\\\n",
    "                                Home|Juvenile|Opportunity|Community Day|Not School')]\n",
    "print(school.head(10))\n",
    "print(school.shape)\n",
    "\n",
    "school.to_csv('data/8_public_school.csv', index=False)"
   ]
  }
 ],
 "metadata": {
  "kernelspec": {
   "display_name": "Python 3",
   "language": "python",
   "name": "python3"
  },
  "language_info": {
   "codemirror_mode": {
    "name": "ipython",
    "version": 3
   },
   "file_extension": ".py",
   "mimetype": "text/x-python",
   "name": "python",
   "nbconvert_exporter": "python",
   "pygments_lexer": "ipython3",
   "version": "3.8.5"
  }
 },
 "nbformat": 4,
 "nbformat_minor": 4
}
